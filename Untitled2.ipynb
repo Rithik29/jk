{
 "cells": [
  {
   "cell_type": "code",
   "execution_count": 1,
   "id": "ebcc5251",
   "metadata": {},
   "outputs": [],
   "source": [
    "from pymongo import MongoClient"
   ]
  },
  {
   "cell_type": "code",
   "execution_count": 2,
   "id": "92de25b8",
   "metadata": {},
   "outputs": [],
   "source": [
    "client = MongoClient('mongodb://localhost:27017/')\n",
    "db = client['cipher']\n",
    "collection = db['test1']"
   ]
  },
  {
   "cell_type": "code",
   "execution_count": 3,
   "id": "637a1e54",
   "metadata": {},
   "outputs": [],
   "source": [
    "import torch\n",
    "import torchvision\n",
    "import torchvision.transforms as transforms\n",
    "import torch.nn as nn\n",
    "import torch.optim as optim"
   ]
  },
  {
   "cell_type": "code",
   "execution_count": 4,
   "id": "50b825e9",
   "metadata": {},
   "outputs": [],
   "source": [
    "class CNN(nn.Module):\n",
    "    def _init_(self):\n",
    "        super(CNN, self)._init_()\n",
    "        self.conv1 = nn.Conv2d(in_channels=3, out_channels=32, kernel_size=3, stride=1, padding=1)\n",
    "        self.conv2 = nn.Conv2d(in_channels=32, out_channels=64, kernel_size=3, stride=1, padding=1)\n",
    "        self.pool = nn.MaxPool2d(kernel_size=2, stride=2, padding=0)\n",
    "        self.fc1 = nn.Linear(64 * 16 * 16, 128)\n",
    "        self.fc2 = nn.Linear(128, 5)\n",
    "\n",
    "    def forward(self, x):\n",
    "        x = self.pool(torch.relu(self.conv1(x)))\n",
    "        x = self.pool(torch.relu(self.conv2(x)))\n",
    "        x = x.view(-1, 64 * 16 * 16)\n",
    "        x = torch.relu(self.fc1(x))\n",
    "        x = self.fc2(x)\n",
    "        return x"
   ]
  },
  {
   "cell_type": "code",
   "execution_count": 5,
   "id": "cdd76fc4",
   "metadata": {},
   "outputs": [
    {
     "ename": "NameError",
     "evalue": "name 'pap_smear' is not defined",
     "output_type": "error",
     "traceback": [
      "\u001b[1;31m---------------------------------------------------------------------------\u001b[0m",
      "\u001b[1;31mNameError\u001b[0m                                 Traceback (most recent call last)",
      "\u001b[1;32m~\\AppData\\Local\\Temp\\ipykernel_5460\\491358576.py\u001b[0m in \u001b[0;36m<module>\u001b[1;34m\u001b[0m\n\u001b[1;32m----> 1\u001b[1;33m \u001b[0mpap_smear\u001b[0m\u001b[1;33m\u001b[0m\u001b[1;33m\u001b[0m\u001b[0m\n\u001b[0m",
      "\u001b[1;31mNameError\u001b[0m: name 'pap_smear' is not defined"
     ]
    }
   ],
   "source": [
    "pap_smear"
   ]
  },
  {
   "cell_type": "code",
   "execution_count": 40,
   "id": "43f9b26d",
   "metadata": {},
   "outputs": [
    {
     "ename": "RuntimeError",
     "evalue": "Error(s) in loading state_dict for CNN:\n\tUnexpected key(s) in state_dict: \"conv1.weight\", \"conv1.bias\", \"conv2.weight\", \"conv2.bias\", \"fc1.weight\", \"fc1.bias\", \"fc2.weight\", \"fc2.bias\". ",
     "output_type": "error",
     "traceback": [
      "\u001b[1;31m---------------------------------------------------------------------------\u001b[0m",
      "\u001b[1;31mRuntimeError\u001b[0m                              Traceback (most recent call last)",
      "\u001b[1;32m~\\AppData\\Local\\Temp\\ipykernel_23684\\36853918.py\u001b[0m in \u001b[0;36m<module>\u001b[1;34m\u001b[0m\n\u001b[0;32m      1\u001b[0m \u001b[0mpap_smear\u001b[0m \u001b[1;33m=\u001b[0m \u001b[0mCNN\u001b[0m\u001b[1;33m(\u001b[0m\u001b[1;33m)\u001b[0m\u001b[1;33m\u001b[0m\u001b[1;33m\u001b[0m\u001b[0m\n\u001b[1;32m----> 2\u001b[1;33m \u001b[0mpap_smear\u001b[0m\u001b[1;33m.\u001b[0m\u001b[0mload_state_dict\u001b[0m\u001b[1;33m(\u001b[0m\u001b[0mtorch\u001b[0m\u001b[1;33m.\u001b[0m\u001b[0mload\u001b[0m\u001b[1;33m(\u001b[0m\u001b[1;34m\"pap_smear.pth\"\u001b[0m\u001b[1;33m,\u001b[0m \u001b[0mmap_location\u001b[0m\u001b[1;33m=\u001b[0m\u001b[0mtorch\u001b[0m\u001b[1;33m.\u001b[0m\u001b[0mdevice\u001b[0m\u001b[1;33m(\u001b[0m\u001b[1;34m'cpu'\u001b[0m\u001b[1;33m)\u001b[0m\u001b[1;33m)\u001b[0m\u001b[1;33m)\u001b[0m\u001b[1;33m\u001b[0m\u001b[1;33m\u001b[0m\u001b[0m\n\u001b[0m\u001b[0;32m      3\u001b[0m \u001b[0mpap_smear\u001b[0m\u001b[1;33m.\u001b[0m\u001b[0meval\u001b[0m\u001b[1;33m(\u001b[0m\u001b[1;33m)\u001b[0m\u001b[1;33m\u001b[0m\u001b[1;33m\u001b[0m\u001b[0m\n",
      "\u001b[1;32m~\\AppData\\Roaming\\Python\\Python39\\site-packages\\torch\\nn\\modules\\module.py\u001b[0m in \u001b[0;36mload_state_dict\u001b[1;34m(self, state_dict, strict)\u001b[0m\n\u001b[0;32m   1669\u001b[0m \u001b[1;33m\u001b[0m\u001b[0m\n\u001b[0;32m   1670\u001b[0m         \u001b[1;32mif\u001b[0m \u001b[0mlen\u001b[0m\u001b[1;33m(\u001b[0m\u001b[0merror_msgs\u001b[0m\u001b[1;33m)\u001b[0m \u001b[1;33m>\u001b[0m \u001b[1;36m0\u001b[0m\u001b[1;33m:\u001b[0m\u001b[1;33m\u001b[0m\u001b[1;33m\u001b[0m\u001b[0m\n\u001b[1;32m-> 1671\u001b[1;33m             raise RuntimeError('Error(s) in loading state_dict for {}:\\n\\t{}'.format(\n\u001b[0m\u001b[0;32m   1672\u001b[0m                                self.__class__.__name__, \"\\n\\t\".join(error_msgs)))\n\u001b[0;32m   1673\u001b[0m         \u001b[1;32mreturn\u001b[0m \u001b[0m_IncompatibleKeys\u001b[0m\u001b[1;33m(\u001b[0m\u001b[0mmissing_keys\u001b[0m\u001b[1;33m,\u001b[0m \u001b[0munexpected_keys\u001b[0m\u001b[1;33m)\u001b[0m\u001b[1;33m\u001b[0m\u001b[1;33m\u001b[0m\u001b[0m\n",
      "\u001b[1;31mRuntimeError\u001b[0m: Error(s) in loading state_dict for CNN:\n\tUnexpected key(s) in state_dict: \"conv1.weight\", \"conv1.bias\", \"conv2.weight\", \"conv2.bias\", \"fc1.weight\", \"fc1.bias\", \"fc2.weight\", \"fc2.bias\". "
     ]
    }
   ],
   "source": [
    "pap_smear = CNN()\n",
    "pap_smear.load_state_dict(torch.load(\"pap_smear.pth\", map_location=torch.device('cpu')))\n",
    "pap_smear.eval()"
   ]
  },
  {
   "cell_type": "code",
   "execution_count": null,
   "id": "10afd409",
   "metadata": {},
   "outputs": [],
   "source": []
  },
  {
   "cell_type": "code",
   "execution_count": null,
   "id": "10540cfe",
   "metadata": {},
   "outputs": [
    {
     "name": "stdout",
     "output_type": "stream",
     "text": [
      "Connected to MongoDB successfully!\n",
      " * Serving Flask app \"__main__\" (lazy loading)\n",
      " * Environment: production\n",
      "\u001b[31m   WARNING: This is a development server. Do not use it in a production deployment.\u001b[0m\n",
      "\u001b[2m   Use a production WSGI server instead.\u001b[0m\n",
      " * Debug mode: off\n"
     ]
    },
    {
     "name": "stderr",
     "output_type": "stream",
     "text": [
      " * Running on http://127.0.0.1:5000/ (Press CTRL+C to quit)\n",
      "127.0.0.1 - - [16/Mar/2024 22:15:19] \"GET /patients HTTP/1.1\" 200 -\n",
      "127.0.0.1 - - [16/Mar/2024 22:15:19] \"GET /patients HTTP/1.1\" 200 -\n"
     ]
    },
    {
     "name": "stdout",
     "output_type": "stream",
     "text": [
      "[{'name': 'John Doe', 'email': 'john.doe@example.com', 'phone': '123-456-7890', 'address': '123 Main St, City, Country', 'notes': 'Lorem ipsum dolor sit amet, consectetur adipiscing elit.'}, {'name': 'Jane Doe', 'email': 'jane.doe@example.com', 'phone': '987-654-3210', 'address': '456 Elm St, City, Country', 'notes': 'Sed do eiusmod tempor incididunt ut labore et dolore magna aliqua.'}, {'name': 'Alice Smith', 'email': 'alice.smith@example.com', 'phone': '456-789-0123', 'address': '789 Oak St, City, Country', 'notes': 'Ut enim ad minim veniam, quis nostrud exercitation ullamco laboris nisi ut aliquip ex ea commodo consequat.'}, {'name': 'Ankita', 'email': 'abc@gmail.com', 'phone': '123-456-7890', 'address': '123 Main St, City, Country', 'notes': 'Highly Vulnerable, Firther Testing is MustHighly Vulnerable, Firther Testing is MustHighly Vulnerable, Firther Testing is Must'}, {'name': 'Ankita', 'email': 'abc123@gmail.com', 'phone': '123-456-7890', 'address': '123 Main St, City, Country', 'notes': ''}, {'name': 'Aparna', 'email': 'abcd@gmail.com', 'phone': '987-654-3210', 'address': 'Jhugi No. 5, Near Old Delhi Railway Station Lines', 'notes': ''}, {'name': 'Abhinav Dalal', 'email': 'abhi@gmail.com', 'phone': '456-789-0123', 'address': 'K-52, Red Light Area, Delhi', 'notes': 'Highly Vulnerable, Firther Testing is Must'}]\n",
      "[{'name': 'John Doe', 'email': 'john.doe@example.com', 'phone': '123-456-7890', 'address': '123 Main St, City, Country', 'notes': 'Lorem ipsum dolor sit amet, consectetur adipiscing elit.'}, {'name': 'Jane Doe', 'email': 'jane.doe@example.com', 'phone': '987-654-3210', 'address': '456 Elm St, City, Country', 'notes': 'Sed do eiusmod tempor incididunt ut labore et dolore magna aliqua.'}, {'name': 'Alice Smith', 'email': 'alice.smith@example.com', 'phone': '456-789-0123', 'address': '789 Oak St, City, Country', 'notes': 'Ut enim ad minim veniam, quis nostrud exercitation ullamco laboris nisi ut aliquip ex ea commodo consequat.'}, {'name': 'Ankita', 'email': 'abc@gmail.com', 'phone': '123-456-7890', 'address': '123 Main St, City, Country', 'notes': 'Highly Vulnerable, Firther Testing is MustHighly Vulnerable, Firther Testing is MustHighly Vulnerable, Firther Testing is Must'}, {'name': 'Ankita', 'email': 'abc123@gmail.com', 'phone': '123-456-7890', 'address': '123 Main St, City, Country', 'notes': ''}, {'name': 'Aparna', 'email': 'abcd@gmail.com', 'phone': '987-654-3210', 'address': 'Jhugi No. 5, Near Old Delhi Railway Station Lines', 'notes': ''}, {'name': 'Abhinav Dalal', 'email': 'abhi@gmail.com', 'phone': '456-789-0123', 'address': 'K-52, Red Light Area, Delhi', 'notes': 'Highly Vulnerable, Firther Testing is Must'}]\n"
     ]
    },
    {
     "name": "stderr",
     "output_type": "stream",
     "text": [
      "127.0.0.1 - - [16/Mar/2024 22:17:04] \"GET /patients HTTP/1.1\" 200 -\n",
      "127.0.0.1 - - [16/Mar/2024 22:17:04] \"GET /patients HTTP/1.1\" 200 -\n"
     ]
    },
    {
     "name": "stdout",
     "output_type": "stream",
     "text": [
      "[{'name': 'John Doe', 'email': 'john.doe@example.com', 'phone': '123-456-7890', 'address': '123 Main St, City, Country', 'notes': 'Lorem ipsum dolor sit amet, consectetur adipiscing elit.'}, {'name': 'Jane Doe', 'email': 'jane.doe@example.com', 'phone': '987-654-3210', 'address': '456 Elm St, City, Country', 'notes': 'Sed do eiusmod tempor incididunt ut labore et dolore magna aliqua.'}, {'name': 'Alice Smith', 'email': 'alice.smith@example.com', 'phone': '456-789-0123', 'address': '789 Oak St, City, Country', 'notes': 'Ut enim ad minim veniam, quis nostrud exercitation ullamco laboris nisi ut aliquip ex ea commodo consequat.'}, {'name': 'Ankita', 'email': 'abc@gmail.com', 'phone': '123-456-7890', 'address': '123 Main St, City, Country', 'notes': 'Highly Vulnerable, Firther Testing is MustHighly Vulnerable, Firther Testing is MustHighly Vulnerable, Firther Testing is Must'}, {'name': 'Ankita', 'email': 'abc123@gmail.com', 'phone': '123-456-7890', 'address': '123 Main St, City, Country', 'notes': ''}, {'name': 'Aparna', 'email': 'abcd@gmail.com', 'phone': '987-654-3210', 'address': 'Jhugi No. 5, Near Old Delhi Railway Station Lines', 'notes': ''}, {'name': 'Abhinav Dalal', 'email': 'abhi@gmail.com', 'phone': '456-789-0123', 'address': 'K-52, Red Light Area, Delhi', 'notes': 'Highly Vulnerable, Firther Testing is Must'}]\n",
      "[{'name': 'John Doe', 'email': 'john.doe@example.com', 'phone': '123-456-7890', 'address': '123 Main St, City, Country', 'notes': 'Lorem ipsum dolor sit amet, consectetur adipiscing elit.'}, {'name': 'Jane Doe', 'email': 'jane.doe@example.com', 'phone': '987-654-3210', 'address': '456 Elm St, City, Country', 'notes': 'Sed do eiusmod tempor incididunt ut labore et dolore magna aliqua.'}, {'name': 'Alice Smith', 'email': 'alice.smith@example.com', 'phone': '456-789-0123', 'address': '789 Oak St, City, Country', 'notes': 'Ut enim ad minim veniam, quis nostrud exercitation ullamco laboris nisi ut aliquip ex ea commodo consequat.'}, {'name': 'Ankita', 'email': 'abc@gmail.com', 'phone': '123-456-7890', 'address': '123 Main St, City, Country', 'notes': 'Highly Vulnerable, Firther Testing is MustHighly Vulnerable, Firther Testing is MustHighly Vulnerable, Firther Testing is Must'}, {'name': 'Ankita', 'email': 'abc123@gmail.com', 'phone': '123-456-7890', 'address': '123 Main St, City, Country', 'notes': ''}, {'name': 'Aparna', 'email': 'abcd@gmail.com', 'phone': '987-654-3210', 'address': 'Jhugi No. 5, Near Old Delhi Railway Station Lines', 'notes': ''}, {'name': 'Abhinav Dalal', 'email': 'abhi@gmail.com', 'phone': '456-789-0123', 'address': 'K-52, Red Light Area, Delhi', 'notes': 'Highly Vulnerable, Firther Testing is Must'}]\n"
     ]
    }
   ],
   "source": [
    "from flask import Flask, request, jsonify\n",
    "from datetime import datetime\n",
    "import pandas as pd\n",
    "app = Flask(__name__)\n",
    "from pymongo import MongoClient\n",
    "import json\n",
    "from datetime import date\n",
    "import openai\n",
    "import cv2\n",
    "import numpy as np\n",
    "import tensorflow as tf\n",
    "import numpy as np\n",
    "import base64\n",
    "from deepface import DeepFace \n",
    "from flask import Flask, jsonify\n",
    "from pymongo import MongoClient\n",
    "from pymongo.errors import ServerSelectionTimeoutError\n",
    "from flask_cors import CORS\n",
    "app = Flask(__name__)\n",
    "CORS(app)\n",
    "\n",
    "try:\n",
    "    client = MongoClient('mongodb://localhost:27017/')\n",
    "    db = client['cipher']\n",
    "    collection = db['test1']\n",
    "    print(\"Connected to MongoDB successfully!\")\n",
    "except ConnectionFailure as e:\n",
    "    print(f\"Error connecting to MongoDB: {e}\")\n",
    "    exit(1)\n",
    "\n",
    "    \n",
    "@app.route('/patients', methods=['GET'])\n",
    "def get_patients():\n",
    "    try:\n",
    "        patients = list(collection.find({}, {'_id': 0, 'name': 1, 'email': 1, 'phone': 1, 'address': 1, 'notes': 1}))\n",
    "        print(patients)\n",
    "        return jsonify(patients)\n",
    "    except Exception as e:\n",
    "        print(f\"Error retrieving patients from MongoDB: {e}\")\n",
    "        return jsonify({'error': str(e)})\n",
    "    \n",
    "    \n",
    "@app.route('/capture', methods=['POST'])\n",
    "def get_cap():\n",
    "    data = request.get_json()\n",
    "    print(data)\n",
    "    mail = data['id']\n",
    "    \n",
    "    # Check if the patient exists in the database\n",
    "    patient = collection.find_one({'email': mail})\n",
    "    if not patient:\n",
    "        return jsonify({'message': 'Patient not registered'})\n",
    "\n",
    "    imgrec = data['image']\n",
    "    image_path = imgrec[0]['path']\n",
    "    image = cv2.imread(image_path)\n",
    "    img = cv2.resize(image, (128, 128))\n",
    "    img = np.array(img)\n",
    "    img = img.reshape(1, 128, 128, 3)\n",
    "    img = tf.convert_to_tensor(img)\n",
    "    \n",
    "    features = cnn_model.predict(img)\n",
    "    \n",
    "    pred = svm_model.predict(features)\n",
    "    pred = json.dumps(pred.tolist())\n",
    "    \n",
    "    notes = patient.get('notes', '')\n",
    "    if pred[0] == '1':\n",
    "        notes += 'Type 1, Inside safe zone . No further Investigation Required.'\n",
    "    elif pred[0] == '2':\n",
    "        notes += 'There are chances ,Recomended to go for further Screnening'\n",
    "    else:\n",
    "        notes += 'Highly Vulnerable, Firther Testing is Must'\n",
    "    collection.update_one({'email': mail}, {'$set': {'notes': notes}})\n",
    "    return pred\n",
    "\n",
    "\n",
    "@app.route('/pap', methods=['POST'])\n",
    "def get_pap():\n",
    "    data = request.get_json()\n",
    "    print(data)\n",
    "    mail = data['id']\n",
    "    \n",
    "    # Check if the patient exists in the database\n",
    "    patient = collection.find_one({'email': mail})\n",
    "    if not patient:\n",
    "        return jsonify({'message': 'Patient not registered'})\n",
    "\n",
    "    imgrec = data['image']\n",
    "    image_path = imgrec[0]['path']\n",
    "    image = cv2.imread(image_path)\n",
    "    img = cv2.resize(image, (128, 128))\n",
    "    img = np.array(img)\n",
    "    img = img.reshape(1, 128, 128, 3)\n",
    "    img = tf.convert_to_tensor(img)\n",
    "    \n",
    "    outputs = model(inputs)\n",
    "    _, pred = torch.max(outputs, 1)\n",
    "    \n",
    "#     pred = svm_model.predict(features)\n",
    "#     pred = json.dumps(pred.tolist())\n",
    "    \n",
    "    notes = patient.get('notes', '')\n",
    "    if pred.item() == '0':\n",
    "        notes += 'Type 1, Inside safe zone . No further Investigation Required.'\n",
    "    elif pred.item() == '1' or pred.item() == '2':\n",
    "        notes += 'There are chances ,Recomended to go for further Screnening'\n",
    "    else:\n",
    "        notes += 'Highly Vulnerable, High chances of positive result'\n",
    "    collection.update_one({'email': mail}, {'$set': {'notes': notes}})\n",
    "    return pred.item()\n",
    "\n",
    "\n",
    "@app.route('/')\n",
    "def hello_world():\n",
    "    return 'Hello, World!'\n",
    "\n",
    "\n",
    "if __name__ == '__main__':\n",
    "    app.run()\n",
    "    "
   ]
  },
  {
   "cell_type": "code",
   "execution_count": null,
   "id": "03e827b5",
   "metadata": {},
   "outputs": [],
   "source": []
  },
  {
   "cell_type": "code",
   "execution_count": 2,
   "id": "da8ee18f",
   "metadata": {},
   "outputs": [
    {
     "name": "stdout",
     "output_type": "stream",
     "text": [
      "Keras model archive loading:\n",
      "File Name                                             Modified             Size\n",
      "config.json                                    2023-11-04 17:38:14         4537\n",
      "metadata.json                                  2023-11-04 17:38:14           64\n",
      "variables.h5                                   2023-11-04 17:38:14     34838200\n",
      "Keras weights file (<HDF5 file \"variables.h5\" (mode r)>) loading:\n",
      "...layers\\conv2d\n",
      "......vars\n",
      ".........0\n",
      ".........1\n",
      "...layers\\conv2d_1\n",
      "......vars\n",
      ".........0\n",
      ".........1\n",
      "...layers\\conv2d_2\n",
      "......vars\n",
      ".........0\n",
      ".........1\n",
      "...layers\\conv2d_3\n",
      "......vars\n",
      ".........0\n",
      ".........1\n",
      "...layers\\dense\n",
      "......vars\n",
      ".........0\n",
      ".........1\n",
      "...layers\\dense_1\n",
      "......vars\n",
      ".........0\n",
      ".........1\n",
      "...layers\\flatten\n",
      "......vars\n",
      "...layers\\flatten_1\n",
      "......vars\n",
      "...layers\\max_pooling2d\n",
      "......vars\n",
      "...layers\\max_pooling2d_1\n",
      "......vars\n",
      "...layers\\max_pooling2d_2\n",
      "......vars\n",
      "...metrics\\mean\n",
      "......vars\n",
      ".........0\n",
      ".........1\n",
      "...metrics\\mean_metric_wrapper\n",
      "......vars\n",
      ".........0\n",
      ".........1\n",
      "...optimizer\n",
      "......vars\n",
      ".........0\n",
      ".........1\n",
      ".........10\n",
      ".........11\n",
      ".........12\n",
      ".........13\n",
      ".........14\n",
      ".........15\n",
      ".........16\n",
      ".........17\n",
      ".........18\n",
      ".........19\n",
      ".........2\n",
      ".........20\n",
      ".........21\n",
      ".........22\n",
      ".........23\n",
      ".........24\n",
      ".........3\n",
      ".........4\n",
      ".........5\n",
      ".........6\n",
      ".........7\n",
      ".........8\n",
      ".........9\n",
      "...vars\n"
     ]
    }
   ],
   "source": [
    "\n",
    "import joblib\n",
    "cnn_model = joblib.load(\"cnn_model.pkl\")\n",
    "svm_model = joblib.load(\"svm_model.pkl\")"
   ]
  },
  {
   "cell_type": "code",
   "execution_count": 46,
   "id": "4ba040f0",
   "metadata": {},
   "outputs": [],
   "source": [
    "image = cv2.imread(\"cer.jpg\")"
   ]
  },
  {
   "cell_type": "code",
   "execution_count": 51,
   "id": "a00d0a31",
   "metadata": {},
   "outputs": [],
   "source": [
    "import numpy as np\n",
    "import tensorflow as tf"
   ]
  },
  {
   "cell_type": "code",
   "execution_count": 55,
   "id": "e0f55a1e",
   "metadata": {},
   "outputs": [],
   "source": [
    "img = cv2.resize(image, (128, 128))\n",
    "img = np.array(img)\n",
    "img = img.reshape(1, 128, 128, 3)\n",
    "img = tf.convert_to_tensor(img)"
   ]
  },
  {
   "cell_type": "code",
   "execution_count": 56,
   "id": "59192ddd",
   "metadata": {},
   "outputs": [
    {
     "data": {
      "text/plain": [
       "TensorShape([1, 128, 128, 3])"
      ]
     },
     "execution_count": 56,
     "metadata": {},
     "output_type": "execute_result"
    }
   ],
   "source": [
    "img.shape"
   ]
  },
  {
   "cell_type": "code",
   "execution_count": 57,
   "id": "ed6801c1",
   "metadata": {},
   "outputs": [
    {
     "name": "stdout",
     "output_type": "stream",
     "text": [
      "1/1 [==============================] - 0s 166ms/step\n"
     ]
    }
   ],
   "source": [
    "features = cnn_model.predict(img)"
   ]
  },
  {
   "cell_type": "code",
   "execution_count": 58,
   "id": "1deea34a",
   "metadata": {},
   "outputs": [],
   "source": [
    "pred = svm_model.predict(features)"
   ]
  },
  {
   "cell_type": "code",
   "execution_count": 59,
   "id": "a603d271",
   "metadata": {},
   "outputs": [
    {
     "data": {
      "text/plain": [
       "array([1])"
      ]
     },
     "execution_count": 59,
     "metadata": {},
     "output_type": "execute_result"
    }
   ],
   "source": [
    "pred"
   ]
  },
  {
   "cell_type": "code",
   "execution_count": 41,
   "id": "061c90eb",
   "metadata": {},
   "outputs": [],
   "source": [
    "import torch\n",
    "import torchvision\n",
    "import torchvision.transforms as transforms\n",
    "import torch.nn as nn\n",
    "import torch.optim as optim"
   ]
  },
  {
   "cell_type": "code",
   "execution_count": 42,
   "id": "78acfe99",
   "metadata": {},
   "outputs": [],
   "source": [
    "transform = transforms.Compose([\n",
    "    transforms.Resize((64, 64)),\n",
    "    transforms.ToTensor(),\n",
    "    # transforms.Normalize((0.5, 0.5, 0.5), (0.5, 0.5, 0.5))\n",
    "])"
   ]
  },
  {
   "cell_type": "code",
   "execution_count": 43,
   "id": "5d43f68b",
   "metadata": {},
   "outputs": [
    {
     "ename": "SyntaxError",
     "evalue": "unexpected character after line continuation character (2782131399.py, line 1)",
     "output_type": "error",
     "traceback": [
      "\u001b[1;36m  File \u001b[1;32m\"C:\\Users\\shora\\AppData\\Local\\Temp\\ipykernel_23684\\2782131399.py\"\u001b[1;36m, line \u001b[1;32m1\u001b[0m\n\u001b[1;33m    C:\\Users\\shora\\Downloads\\cervix-cipak\u001b[0m\n\u001b[1;37m       ^\u001b[0m\n\u001b[1;31mSyntaxError\u001b[0m\u001b[1;31m:\u001b[0m unexpected character after line continuation character\n"
     ]
    }
   ],
   "source": [
    "C:\\Users\\shora\\Downloads\\cervix-cipak"
   ]
  },
  {
   "cell_type": "code",
   "execution_count": 47,
   "id": "337e7ec1",
   "metadata": {},
   "outputs": [],
   "source": [
    "import torch\n",
    "import torch.nn as nn\n",
    "import torch.optim as optim\n",
    "import torchvision\n",
    "import torchvision.transforms as transforms\n",
    "from torch.utils.data import DataLoader, random_split\n",
    "from torchvision.datasets import ImageFolder\n",
    "transform = transforms.Compose([\n",
    "    transforms.Resize((64, 64)),\n",
    "    transforms.ToTensor(),\n",
    "])\n",
    "\n",
    "train_data = torchvision.datasets.ImageFolder('C:/Users/shora/Downloads/cervix-cipak/cervix-cipak/train', transform=transform)\n",
    "train_loader = torch.utils.data.DataLoader(train_data, batch_size=32, shuffle=True)\n",
    "\n",
    "\n",
    "test_data = torchvision.datasets.ImageFolder('C:/Users/shora/Downloads/cervix-cipak/cervix-cipak/test', transform=transform)\n",
    "test_loader = torch.utils.data.DataLoader(test_data, batch_size=32, shuffle=True)\n",
    "\n",
    "class CNN(nn.Module):\n",
    "    def __init__(self):\n",
    "        super(CNN, self).__init__()\n",
    "        self.conv1 = nn.Conv2d(in_channels=3, out_channels=32, kernel_size=3, stride=1, padding=1)\n",
    "        self.conv2 = nn.Conv2d(in_channels=32, out_channels=64, kernel_size=3, stride=1, padding=1)\n",
    "        self.pool = nn.MaxPool2d(kernel_size=2, stride=2, padding=0)\n",
    "        self.fc1 = nn.Linear(64 * 16 * 16, 128)\n",
    "        self.fc2 = nn.Linear(128, 5)  # 5 classes\n",
    "\n",
    "    def forward(self, x):\n",
    "        x = self.pool(torch.relu(self.conv1(x)))\n",
    "        x = self.pool(torch.relu(self.conv2(x)))\n",
    "        x = x.view(-1, 64 * 16 * 16)\n",
    "        x = torch.relu(self.fc1(x))\n",
    "        x = self.fc2(x)\n",
    "        return x\n",
    "\n",
    "model = CNN()\n",
    "criterion = nn.CrossEntropyLoss()\n",
    "optimizer = optim.Adam(model.parameters(), lr=0.001)\n"
   ]
  },
  {
   "cell_type": "code",
   "execution_count": 51,
   "id": "d8efaa42",
   "metadata": {},
   "outputs": [
    {
     "name": "stdout",
     "output_type": "stream",
     "text": [
      "Epoch [1/10], Loss: 0.20854086180528006\n",
      "Epoch [2/10], Loss: 0.2047704207779324\n",
      "Epoch [3/10], Loss: 0.16834527725553783\n",
      "Epoch [4/10], Loss: 0.15332644691659233\n",
      "Epoch [5/10], Loss: 0.14930074009518166\n",
      "Epoch [6/10], Loss: 0.09225859213094253\n",
      "Epoch [7/10], Loss: 0.10865584312606666\n",
      "Epoch [8/10], Loss: 0.08796811475297489\n",
      "Epoch [9/10], Loss: 0.07261435702274747\n",
      "Epoch [10/10], Loss: 0.10260455076198625\n"
     ]
    }
   ],
   "source": [
    "\n",
    "num_epochs = 10\n",
    "for epoch in range( num_epochs):\n",
    "    model.train()\n",
    "    running_loss = 0.0\n",
    "    for inputs, labels in train_loader:\n",
    "        optimizer.zero_grad()\n",
    "        outputs = model(inputs)\n",
    "        loss = criterion(outputs, labels)\n",
    "        loss.backward()\n",
    "        optimizer.step()\n",
    "        running_loss += loss.item() * inputs.size(0)\n",
    "    print(f'Epoch [{epoch+1}/{num_epochs}], Loss: {running_loss/len(train_data)}')\n"
   ]
  },
  {
   "cell_type": "code",
   "execution_count": 55,
   "id": "89725a74",
   "metadata": {},
   "outputs": [
    {
     "name": "stdout",
     "output_type": "stream",
     "text": [
      "Accuracy on test set: 87.03%\n"
     ]
    }
   ],
   "source": [
    "model.eval()\n",
    "correct = 0\n",
    "total = 0\n",
    "with torch.no_grad():\n",
    "    for inputs, labels in test_loader:\n",
    "        outputs = model(inputs)\n",
    "        _, predicted = torch.max(outputs, 1)\n",
    "        total += labels.size(0)\n",
    "        correct += (predicted.cpu() == labels).sum().item()\n",
    "print(f'Accuracy on test set: {(correct/total)*100:.2f}%')\n"
   ]
  },
  {
   "cell_type": "code",
   "execution_count": 57,
   "id": "cf91dde7",
   "metadata": {},
   "outputs": [
    {
     "data": {
      "text/plain": [
       "tensor(3)"
      ]
     },
     "execution_count": 57,
     "metadata": {},
     "output_type": "execute_result"
    }
   ],
   "source": [
    "predicted[0]"
   ]
  },
  {
   "cell_type": "code",
   "execution_count": 56,
   "id": "1c827487",
   "metadata": {},
   "outputs": [],
   "source": [
    "torch.save(model.state_dict(), 'pap.pth')\n"
   ]
  },
  {
   "cell_type": "code",
   "execution_count": null,
   "id": "b332a263",
   "metadata": {},
   "outputs": [],
   "source": []
  }
 ],
 "metadata": {
  "kernelspec": {
   "display_name": "Python 3 (ipykernel)",
   "language": "python",
   "name": "python3"
  },
  "language_info": {
   "codemirror_mode": {
    "name": "ipython",
    "version": 3
   },
   "file_extension": ".py",
   "mimetype": "text/x-python",
   "name": "python",
   "nbconvert_exporter": "python",
   "pygments_lexer": "ipython3",
   "version": "3.9.13"
  }
 },
 "nbformat": 4,
 "nbformat_minor": 5
}
